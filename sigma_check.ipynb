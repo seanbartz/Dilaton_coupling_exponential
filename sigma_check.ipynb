{
 "cells": [
  {
   "cell_type": "code",
   "execution_count": 17,
   "id": "781cebe7",
   "metadata": {},
   "outputs": [],
   "source": [
    "import numpy as np\n",
    "import matplotlib.pyplot as plt\n",
    "from criticalZoom import allSigmas, get_all_sigmas_parallel"
   ]
  },
  {
   "cell_type": "code",
   "execution_count": 20,
   "id": "f0b962aa",
   "metadata": {},
   "outputs": [],
   "source": [
    "#light quark mass\n",
    "ml=24\n",
    "\n",
    "#chemical potential\n",
    "mu=0\n",
    "\n",
    "lambda1= 0 #parameter for mixing between dilaton and chiral field\n",
    "\n",
    "#sigma range\n",
    "minsigma=0\n",
    "maxsigma=500\n",
    "\n",
    "mu0=430\n",
    "mu1=830\n",
    "mu2=176"
   ]
  },
  {
   "cell_type": "code",
   "execution_count": 21,
   "id": "01e22456",
   "metadata": {},
   "outputs": [
    {
     "name": "stdout",
     "output_type": "stream",
     "text": [
      "[183. 476.   0.]\n"
     ]
    }
   ],
   "source": [
    "T=90\n",
    "sigma_vals=allSigmas([T,mu,ml,minsigma,maxsigma,lambda1,mu0,mu1,mu2])\n",
    "print(sigma_vals)"
   ]
  },
  {
   "cell_type": "code",
   "execution_count": null,
   "id": "ee88582c",
   "metadata": {},
   "outputs": [],
   "source": []
  }
 ],
 "metadata": {
  "kernelspec": {
   "display_name": "Python 3 (ipykernel)",
   "language": "python",
   "name": "python3"
  },
  "language_info": {
   "codemirror_mode": {
    "name": "ipython",
    "version": 3
   },
   "file_extension": ".py",
   "mimetype": "text/x-python",
   "name": "python",
   "nbconvert_exporter": "python",
   "pygments_lexer": "ipython3",
   "version": "3.9.13"
  }
 },
 "nbformat": 4,
 "nbformat_minor": 5
}
