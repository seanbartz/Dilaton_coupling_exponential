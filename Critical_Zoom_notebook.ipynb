{
 "cells": [
  {
   "cell_type": "code",
   "execution_count": 103,
   "id": "eab6d7e1",
   "metadata": {},
   "outputs": [],
   "source": [
    "import numpy as np\n",
    "import matplotlib.pyplot as plt\n",
    "import pandas as pd\n",
    "import os\n",
    "from criticalZoom import critical_zoom\n",
    "from timebudget import timebudget\n",
    "timebudget.set_quiet(False)  # don't show measurements as they happen\n",
    "timebudget.report_at_exit(True)  # Generate report when the program exits\n"
   ]
  },
  {
   "cell_type": "code",
   "execution_count": 299,
   "id": "fcd8c0b6",
   "metadata": {},
   "outputs": [
    {
     "name": "stderr",
     "output_type": "stream",
     "text": [
      "/Users/seanbartz/opt/anaconda3/lib/python3.9/site-packages/scipy/integrate/_odepack_py.py:247: ODEintWarning: Excess work done on this call (perhaps wrong Dfun type). Run with full_output = 1 to get quantitative information.\n",
      "  warnings.warn(warning_msg, ODEintWarning)\n",
      "/Users/seanbartz/opt/anaconda3/lib/python3.9/site-packages/scipy/integrate/_odepack_py.py:247: ODEintWarning: Excess work done on this call (perhaps wrong Dfun type). Run with full_output = 1 to get quantitative information.\n",
      "  warnings.warn(warning_msg, ODEintWarning)\n",
      "/Users/seanbartz/opt/anaconda3/lib/python3.9/site-packages/scipy/integrate/_odepack_py.py:247: ODEintWarning: Excess work done on this call (perhaps wrong Dfun type). Run with full_output = 1 to get quantitative information.\n",
      "  warnings.warn(warning_msg, ODEintWarning)\n",
      "/Users/seanbartz/opt/anaconda3/lib/python3.9/site-packages/scipy/integrate/_odepack_py.py:247: ODEintWarning: Excess work done on this call (perhaps wrong Dfun type). Run with full_output = 1 to get quantitative information.\n",
      "  warnings.warn(warning_msg, ODEintWarning)\n",
      "/Users/seanbartz/opt/anaconda3/lib/python3.9/site-packages/scipy/integrate/_odepack_py.py:247: ODEintWarning: Excess work done on this call (perhaps wrong Dfun type). Run with full_output = 1 to get quantitative information.\n",
      "  warnings.warn(warning_msg, ODEintWarning)\n",
      "/Users/seanbartz/opt/anaconda3/lib/python3.9/site-packages/scipy/integrate/_odepack_py.py:247: ODEintWarning: Excess work done on this call (perhaps wrong Dfun type). Run with full_output = 1 to get quantitative information.\n",
      "  warnings.warn(warning_msg, ODEintWarning)\n",
      "/Users/seanbartz/opt/anaconda3/lib/python3.9/site-packages/scipy/integrate/_odepack_py.py:247: ODEintWarning: Excess work done on this call (perhaps wrong Dfun type). Run with full_output = 1 to get quantitative information.\n",
      "  warnings.warn(warning_msg, ODEintWarning)\n",
      "/Users/seanbartz/opt/anaconda3/lib/python3.9/site-packages/scipy/integrate/_odepack_py.py:247: ODEintWarning: Excess work done on this call (perhaps wrong Dfun type). Run with full_output = 1 to get quantitative information.\n",
      "  warnings.warn(warning_msg, ODEintWarning)\n",
      "/Users/seanbartz/opt/anaconda3/lib/python3.9/site-packages/scipy/integrate/_odepack_py.py:247: ODEintWarning: Excess work done on this call (perhaps wrong Dfun type). Run with full_output = 1 to get quantitative information.\n",
      "  warnings.warn(warning_msg, ODEintWarning)\n",
      "/Users/seanbartz/opt/anaconda3/lib/python3.9/site-packages/scipy/integrate/_odepack_py.py:247: ODEintWarning: Excess work done on this call (perhaps wrong Dfun type). Run with full_output = 1 to get quantitative information.\n",
      "  warnings.warn(warning_msg, ODEintWarning)\n",
      "/Users/seanbartz/opt/anaconda3/lib/python3.9/site-packages/scipy/integrate/_odepack_py.py:247: ODEintWarning: Excess work done on this call (perhaps wrong Dfun type). Run with full_output = 1 to get quantitative information.\n",
      "  warnings.warn(warning_msg, ODEintWarning)\n",
      "/Users/seanbartz/opt/anaconda3/lib/python3.9/site-packages/scipy/integrate/_odepack_py.py:247: ODEintWarning: Excess work done on this call (perhaps wrong Dfun type). Run with full_output = 1 to get quantitative information.\n",
      "  warnings.warn(warning_msg, ODEintWarning)\n",
      "/Users/seanbartz/opt/anaconda3/lib/python3.9/site-packages/scipy/integrate/_odepack_py.py:247: ODEintWarning: Excess work done on this call (perhaps wrong Dfun type). Run with full_output = 1 to get quantitative information.\n",
      "  warnings.warn(warning_msg, ODEintWarning)\n",
      "/Users/seanbartz/opt/anaconda3/lib/python3.9/site-packages/scipy/integrate/_odepack_py.py:247: ODEintWarning: Excess work done on this call (perhaps wrong Dfun type). Run with full_output = 1 to get quantitative information.\n",
      "  warnings.warn(warning_msg, ODEintWarning)\n",
      "/Users/seanbartz/opt/anaconda3/lib/python3.9/site-packages/scipy/integrate/_odepack_py.py:247: ODEintWarning: Excess work done on this call (perhaps wrong Dfun type). Run with full_output = 1 to get quantitative information.\n",
      "  warnings.warn(warning_msg, ODEintWarning)\n",
      "/Users/seanbartz/opt/anaconda3/lib/python3.9/site-packages/scipy/integrate/_odepack_py.py:247: ODEintWarning: Excess work done on this call (perhaps wrong Dfun type). Run with full_output = 1 to get quantitative information.\n",
      "  warnings.warn(warning_msg, ODEintWarning)\n",
      "/Users/seanbartz/opt/anaconda3/lib/python3.9/site-packages/scipy/integrate/_odepack_py.py:247: ODEintWarning: Excess work done on this call (perhaps wrong Dfun type). Run with full_output = 1 to get quantitative information.\n",
      "  warnings.warn(warning_msg, ODEintWarning)\n",
      "/Users/seanbartz/opt/anaconda3/lib/python3.9/site-packages/scipy/integrate/_odepack_py.py:247: ODEintWarning: Excess work done on this call (perhaps wrong Dfun type). Run with full_output = 1 to get quantitative information.\n",
      "  warnings.warn(warning_msg, ODEintWarning)\n",
      "/Users/seanbartz/opt/anaconda3/lib/python3.9/site-packages/scipy/integrate/_odepack_py.py:247: ODEintWarning: Excess work done on this call (perhaps wrong Dfun type). Run with full_output = 1 to get quantitative information.\n",
      "  warnings.warn(warning_msg, ODEintWarning)\n",
      "/Users/seanbartz/opt/anaconda3/lib/python3.9/site-packages/scipy/integrate/_odepack_py.py:247: ODEintWarning: Excess work done on this call (perhaps wrong Dfun type). Run with full_output = 1 to get quantitative information.\n",
      "  warnings.warn(warning_msg, ODEintWarning)\n",
      "/Users/seanbartz/Dropbox/ISU/Research/QGP/Dilaton_coupling_exponential/criticalZoom.py:168: RuntimeWarning: overflow encountered in square\n",
      "  test = ((-u**2*fp)/f)*chiFields[:,1]-1/f*(3*chiFields[:,0]+lambda1*phi*chiFields[:,0]-3*v3*chiFields[:,0]**2-4*v4*chiFields[:,0]**3)\n",
      "/Users/seanbartz/Dropbox/ISU/Research/QGP/Dilaton_coupling_exponential/criticalZoom.py:168: RuntimeWarning: overflow encountered in power\n",
      "  test = ((-u**2*fp)/f)*chiFields[:,1]-1/f*(3*chiFields[:,0]+lambda1*phi*chiFields[:,0]-3*v3*chiFields[:,0]**2-4*v4*chiFields[:,0]**3)\n",
      "/Users/seanbartz/Dropbox/ISU/Research/QGP/Dilaton_coupling_exponential/criticalZoom.py:168: RuntimeWarning: invalid value encountered in subtract\n",
      "  test = ((-u**2*fp)/f)*chiFields[:,1]-1/f*(3*chiFields[:,0]+lambda1*phi*chiFields[:,0]-3*v3*chiFields[:,0]**2-4*v4*chiFields[:,0]**3)\n",
      "/Users/seanbartz/Dropbox/ISU/Research/QGP/Dilaton_coupling_exponential/criticalZoom.py:168: RuntimeWarning: overflow encountered in square\n",
      "  test = ((-u**2*fp)/f)*chiFields[:,1]-1/f*(3*chiFields[:,0]+lambda1*phi*chiFields[:,0]-3*v3*chiFields[:,0]**2-4*v4*chiFields[:,0]**3)\n",
      "/Users/seanbartz/Dropbox/ISU/Research/QGP/Dilaton_coupling_exponential/criticalZoom.py:168: RuntimeWarning: overflow encountered in power\n",
      "  test = ((-u**2*fp)/f)*chiFields[:,1]-1/f*(3*chiFields[:,0]+lambda1*phi*chiFields[:,0]-3*v3*chiFields[:,0]**2-4*v4*chiFields[:,0]**3)\n",
      "/Users/seanbartz/Dropbox/ISU/Research/QGP/Dilaton_coupling_exponential/criticalZoom.py:168: RuntimeWarning: invalid value encountered in subtract\n",
      "  test = ((-u**2*fp)/f)*chiFields[:,1]-1/f*(3*chiFields[:,0]+lambda1*phi*chiFields[:,0]-3*v3*chiFields[:,0]**2-4*v4*chiFields[:,0]**3)\n"
     ]
    },
    {
     "name": "stdout",
     "output_type": "stream",
     "text": [
      "get_all_sigmas_parallel took 8.860sec\n",
      "Crossover or 2nd order\n",
      "Pseudo-Critical temperature is between 306.25 341.25\n",
      "Iteration number  1\n",
      "get_all_sigmas_parallel took 7.359sec\n",
      "First order\n",
      "Critical temperature is  325.2083333333333\n",
      "Iteration number  2\n",
      "critical_zoom took 16.479sec\n"
     ]
    }
   ],
   "source": [
    "tmin=140\n",
    "tmax=350\n",
    "numtemp=25\n",
    "\n",
    "\n",
    "\n",
    "#light quark mass\n",
    "ml=30\n",
    "\n",
    "#chemical potential\n",
    "mu=0\n",
    "\n",
    "lambda1= -4.25 #parameter for mixing between dilaton and chiral field\n",
    "\n",
    "minsigma=0\n",
    "maxsigma=800\n",
    "\n",
    "mu0=430\n",
    "mu1=830\n",
    "mu2=176\n",
    "\n",
    "order, iterationNumber, sigma_list,temps_list,Tc=critical_zoom(tmin,tmax,numtemp,minsigma,maxsigma,ml,mu,lambda1,mu0,mu1,mu2)\n",
    "\n",
    "\n"
   ]
  },
  {
   "cell_type": "code",
   "execution_count": 300,
   "id": "ba3546ae",
   "metadata": {},
   "outputs": [
    {
     "data": {
      "text/plain": [
       "712.0"
      ]
     },
     "execution_count": 300,
     "metadata": {},
     "output_type": "execute_result"
    }
   ],
   "source": [
    "max(sigma_list[0][:,0])"
   ]
  },
  {
   "cell_type": "code",
   "execution_count": 301,
   "id": "d3f99695",
   "metadata": {
    "scrolled": false
   },
   "outputs": [
    {
     "data": {
      "image/png": "[encoded data removed]",
      "text/plain": [
       "<Figure size 640x480 with 1 Axes>"
      ]
     },
     "metadata": {},
     "output_type": "display_data"
    }
   ],
   "source": [
    "#plot all the sigma values for each iteration\n",
    "#get the standard colors for matplotlib\n",
    "prop_cycle = plt.rcParams['axes.prop_cycle']\n",
    "colors = prop_cycle.by_key()['color']\n",
    "\n",
    "#find the index of when sigma_list[0][:,0] has its first zero value\n",
    "#this is the index of the first temperature where the sigma value is zero\n",
    "\n",
    "max_index=np.argmax(sigma_list[0][:,0]==0)\n",
    "#find the value of the temperature at this index\n",
    "max_temp=temps_list[0][max_index]\n",
    "\n",
    "\n",
    "\n",
    "for i in range(len(sigma_list)):\n",
    "    plt.scatter(temps_list[i],(sigma_list[i][:,0]/1000)**3,color=colors[0])\n",
    "    plt.scatter(temps_list[i],(sigma_list[i][:,1]/1000)**3,color=colors[1])\n",
    "    plt.scatter(temps_list[i],(sigma_list[i][:,2]/1000)**3,color=colors[2])\n",
    "plt.xlabel(\"Temperature (MeV)\")\n",
    "plt.ylabel(\"$\\sigma$ (GeV)$^3$\")\n",
    "#set the x range\n",
    "# plt.xlim(temps_list[0][0],max_temp)\n",
    "plt.title(r'$m_q=%i$ MeV, $\\mu=%i$ MeV, $\\lambda_1=$ %f' %(ml,mu,lambda1))\n",
    "plt.show()\n",
    "    "
   ]
  },
  {
   "cell_type": "markdown",
   "id": "a5fe4f90",
   "metadata": {},
   "source": [
    "## Save critical point data\n",
    "Use the following code to append the current data about this transition to the saved file"
   ]
  },
  {
   "cell_type": "code",
   "execution_count": 302,
   "id": "c62a1dd0",
   "metadata": {},
   "outputs": [],
   "source": [
    "# Create a DataFrame from your values\n",
    "df = pd.DataFrame([(ml, lambda1, mu, Tc, order)], columns=['ml', 'lambda', 'mu', 'Tc', 'order'])\n",
    "\n",
    "filename = 'critical_temp.csv'\n",
    "\n",
    "# Check if file exists\n",
    "if os.path.isfile(filename):\n",
    "    # If file exists, load the old file\n",
    "    df_old = pd.read_csv(filename)\n",
    "\n",
    "    # Append the new data\n",
    "    df = pd.concat([df_old, df], ignore_index=True)\n",
    "\n",
    "# Save to csv file\n",
    "df.to_csv(filename, index=False)"
   ]
  },
  {
   "cell_type": "markdown",
   "id": "68a24e37",
   "metadata": {},
   "source": [
    "## Save all of the plotted data"
   ]
  },
  {
   "cell_type": "code",
   "execution_count": 303,
   "id": "13ee920f",
   "metadata": {},
   "outputs": [],
   "source": [
    "# Save the data as a pandas dataframe\n",
    "df_all_list = []\n",
    "for i in range(len(sigma_list)):\n",
    "    df=pd.DataFrame()\n",
    "    df['temps']=temps_list[i]\n",
    "    df['sigma1']=(sigma_list[i][:,0]/1000)**3   \n",
    "    df['sigma2']=(sigma_list[i][:,1]/1000)**3\n",
    "    df['sigma3']=(sigma_list[i][:,2]/1000)**3\n",
    "    df['order']=order\n",
    "    df['ml']=ml\n",
    "    df['mu']=mu\n",
    "    df['lambda1']=lambda1\n",
    "    df['Tc']=Tc\n",
    "    df_all_list.append(df)\n",
    "\n",
    "# Use pandas concat here\n",
    "df_all = pd.concat(df_all_list)\n",
    "\n",
    "#pickle the data frame\n",
    "df_all.to_pickle('data/chiral_transition_mq%i_mu%i_lambda%f_order%i.pkl' %(ml,mu,lambda1,order))\n",
    "\n"
   ]
  },
  {
   "cell_type": "code",
   "execution_count": null,
   "id": "245e3493",
   "metadata": {},
   "outputs": [],
   "source": [
    "#load the data frame from the pickle file\n",
    "df2=pd.read_pickle('chiral_transition_mq%i_mu%i_lambda%f_order%i.pkl' %(ml,mu,lambda1,order))\n",
    "\n",
    "#plot the data frame\n",
    "df2.plot.scatter(x='temps',y=['sigma'])\n",
    "plt.xlabel(\"Temperature (MeV)\")\n",
    "plt.ylabel(\"$\\sigma$ (GeV$^3$)\")\n",
    "plt.title(r'$m_q=%i$ MeV, $\\mu=%i$ MeV, $\\lambda_1=$ %f' %(ml,mu,lambda1))\n",
    "plt.show()"
   ]
  },
  {
   "cell_type": "code",
   "execution_count": 283,
   "id": "0ebeb212",
   "metadata": {},
   "outputs": [
    {
     "data": {
      "image/png": "[encoded data removed]",
      "text/plain": [
       "<Figure size 640x480 with 1 Axes>"
      ]
     },
     "metadata": {},
     "output_type": "display_data"
    }
   ],
   "source": [
    "i=1\n",
    "#plot the most zoomed-in data\n",
    "plt.scatter(temps_list[-i],(sigma_list[-i][:,0]/1000)**3,color=colors[0])\n",
    "plt.scatter(temps_list[-i],(sigma_list[-i][:,1]/1000)**3,color=colors[1])\n",
    "plt.scatter(temps_list[-i],(sigma_list[-i][:,2]/1000)**3,color=colors[2])\n",
    "plt.ylim(min((sigma_list[-i][:,0]/1000)**3),max((sigma_list[-i][:,0]/1000)**3))\n",
    "plt.show()"
   ]
  },
  {
   "cell_type": "code",
   "execution_count": 194,
   "id": "a9ec30bc",
   "metadata": {},
   "outputs": [
    {
     "data": {
      "text/plain": [
       "array([[328.,   0.,   0.],\n",
       "       [328.,   0.,   0.],\n",
       "       [327.,   0.,   0.],\n",
       "       [327.,   0.,   0.],\n",
       "       [327.,   0.,   0.],\n",
       "       [326.,   0.,   0.],\n",
       "       [326.,   0.,   0.],\n",
       "       [326.,   0.,   0.],\n",
       "       [325.,   0.,   0.],\n",
       "       [325.,   0.,   0.],\n",
       "       [325.,   0.,   0.],\n",
       "       [324.,   0.,   0.],\n",
       "       [324.,   0.,   0.],\n",
       "       [324.,   0.,   0.],\n",
       "       [323.,   0.,   0.],\n",
       "       [321., 322., 323.],\n",
       "       [321.,   0.,   0.],\n",
       "       [320.,   0.,   0.],\n",
       "       [320.,   0.,   0.],\n",
       "       [320.,   0.,   0.],\n",
       "       [319.,   0.,   0.],\n",
       "       [319.,   0.,   0.],\n",
       "       [319.,   0.,   0.],\n",
       "       [318.,   0.,   0.],\n",
       "       [318.,   0.,   0.]])"
      ]
     },
     "execution_count": 194,
     "metadata": {},
     "output_type": "execute_result"
    }
   ],
   "source": [
    "sigma_list[-1]"
   ]
  },
  {
   "cell_type": "code",
   "execution_count": null,
   "id": "57902b11",
   "metadata": {},
   "outputs": [],
   "source": []
  },
  {
   "cell_type": "code",
   "execution_count": null,
   "id": "6c2b8ddb",
   "metadata": {},
   "outputs": [],
   "source": []
  }
 ],
 "metadata": {
  "kernelspec": {
   "display_name": "Python 3 (ipykernel)",
   "language": "python",
   "name": "python3"
  },
  "language_info": {
   "codemirror_mode": {
    "name": "ipython",
    "version": 3
   },
   "file_extension": ".py",
   "mimetype": "text/x-python",
   "name": "python",
   "nbconvert_exporter": "python",
   "pygments_lexer": "ipython3",
   "version": "3.9.13"
  }
 },
 "nbformat": 4,
 "nbformat_minor": 5
}
