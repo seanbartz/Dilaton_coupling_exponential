{
 "cells": [
  {
   "cell_type": "markdown",
   "id": "4bf775cd",
   "metadata": {},
   "source": [
    "### Set up python environment\n",
    "This block defines an environment `my_env`, which makes sure we have all python packages we need. Run once each session."
   ]
  },
  {
   "cell_type": "code",
   "execution_count": 16,
   "id": "eed61660",
   "metadata": {},
   "outputs": [],
   "source": [
    "import subprocess\n",
    "import sys\n",
    "\n",
    "# Create the environment\n",
    "env_name = \"my_env\"\n",
    "subprocess.run([sys.executable, \"-m\", \"venv\", env_name])\n",
    "\n",
    "# Install packages in the environment\n",
    "packages = [\"numpy\", \"pandas\", \"matplotlib\", \"timebudget\", \"scipy\"]\n",
    "for package in packages:\n",
    "    subprocess.run([f\"./{env_name}/bin/pip\", \"install\", package])\n"
   ]
  },
  {
   "cell_type": "markdown",
   "id": "47e905ac",
   "metadata": {},
   "source": [
    "# Create script to run code\n",
    "Edit your parameters here. The value of lambda1 and ml will go into the file name for the script."
   ]
  },
  {
   "cell_type": "code",
   "execution_count": 17,
   "id": "29d572cf",
   "metadata": {},
   "outputs": [],
   "source": [
    "# Define parameters\n",
    "lambda1=-4.25\n",
    "mu0=430\n",
    "mu1=830\n",
    "mu2=176\n",
    "ml=42\n",
    "tmin=150\n",
    "tmax=450\n",
    "numtemp=25\n",
    "minsigma=0\n",
    "maxsigma=800\n",
    "mu_initial=0\n",
    "delta_mu=128\n",
    "mu_precision=4\n",
    "\n",
    "\n",
    "\"DO NOT EDIT ANYTHING BELOW HERE!\"\n",
    "# Define the template for your PBS script\n",
    "pbs_template = \"\"\"\n",
    "#!/bin/bash\n",
    "#PBS -S /bin/bash\n",
    "#PBS -N crit_pt_mq_{ml}_lambda_{lambda1} \n",
    "#PBS -j oe\n",
    "#PBS -o ./python_job_{ml}_{lambda1}.out\n",
    "#PBS -l nodes=1:ppn=20\n",
    "#PBS -l walltime=01:00:00\n",
    "#PBS -M sean.bartz@indstate.edu\n",
    "#PBS -m abe\n",
    "cd $PBS_O_WORKDIR\n",
    "source my_env/bin/activate\n",
    "python3 critical_point_runner.py {} {} {} {} {} {} {} {} {} {} {} {} {}\n",
    "\"\"\"\n",
    "\n",
    "# Fill in the template with your parameters\n",
    "pbs_script = pbs_template.format(lambda1, mu0, mu1, mu2, ml, tmin, tmax, numtemp, minsigma, maxsigma, mu_initial, delta_mu, mu_precision)\n",
    "\n",
    "# Define the filename with your parameters\n",
    "filename = f\"crit_pt_search_mq_{ml}_lambda_{lambda1}.sh\"\n",
    "\n",
    "# Write the script to a new file\n",
    "with open(filename, 'w') as f:\n",
    "    f.write(pbs_script)\n"
   ]
  },
  {
   "cell_type": "markdown",
   "id": "53697acf",
   "metadata": {},
   "source": [
    "# Submit to the queue to execute on Obsidian\n",
    "Make sure you only run this once, or you will submit the same job multiple times!"
   ]
  },
  {
   "cell_type": "code",
   "execution_count": 18,
   "id": "32dbfb89",
   "metadata": {},
   "outputs": [
    {
     "data": {
      "text/plain": [
       "CompletedProcess(args=['qsub', 'crit_pt_search_mq_42_lambda_-4.25.sh'], returncode=0)"
      ]
     },
     "execution_count": 18,
     "metadata": {},
     "output_type": "execute_result"
    }
   ],
   "source": [
    "# Submit the job script to qsub\n",
    "subprocess.run([\"qsub\", filename])"
   ]
  },
  {
   "cell_type": "markdown",
   "id": "7091e91e",
   "metadata": {},
   "source": [
    "# Check on the status of currently running jobs"
   ]
  },
  {
   "cell_type": "code",
   "execution_count": 20,
   "id": "79d27cf3",
   "metadata": {},
   "outputs": [
    {
     "name": "stdout",
     "output_type": "stream",
     "text": [
      "Job ID                    Name             User            Time Use S Queue\r\n",
      "------------------------- ---------------- --------------- -------- - -----\r\n",
      "6530.obsidian              mrg8Fb.hhg       gzhang          14795:28 R batch          \r\n",
      "6538.obsidian              mrg8Fa.hhg       gzhang          14683:12 R batch          \r\n",
      "6550.obsidian              mrg8F.hhg        gzhang          7703:16: R batch          \r\n",
      "6560.obsidian              mrg8G1.hhg       gzhang          7179:41: R batch          \r\n",
      "6564.obsidian              mrg8F.1.6.LC     gzhang          2157:55: R batch          \r\n",
      "6593.obsidian              ....2.0.lc.nodes gzhang          58:55:40 R batch          \r\n",
      "6599.obsidian              my_python_job    sbartz1         00:19:47 R batch          \r\n"
     ]
    }
   ],
   "source": [
    "!qstat"
   ]
  },
  {
   "cell_type": "code",
   "execution_count": null,
   "id": "47718e2c",
   "metadata": {},
   "outputs": [],
   "source": []
  }
 ],
 "metadata": {
  "kernelspec": {
   "display_name": "Python 3",
   "language": "python",
   "name": "python3"
  },
  "language_info": {
   "codemirror_mode": {
    "name": "ipython",
    "version": 3
   },
   "file_extension": ".py",
   "mimetype": "text/x-python",
   "name": "python",
   "nbconvert_exporter": "python",
   "pygments_lexer": "ipython3",
   "version": "3.6.8"
  }
 },
 "nbformat": 4,
 "nbformat_minor": 5
}
